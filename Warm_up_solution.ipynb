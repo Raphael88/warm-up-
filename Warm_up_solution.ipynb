{
 "cells": [
  {
   "cell_type": "code",
   "execution_count": 1,
   "metadata": {},
   "outputs": [],
   "source": [
    "import pandas as pd\n",
    "import numpy as np\n",
    "import sqlite3\n",
    "import random\n",
    "import sys\n",
    "import matplotlib.pyplot as plt\n",
    "import seaborn as sns\n",
    "from scipy.linalg import lstsq\n",
    "from sklearn.preprocessing import scale\n",
    "from sklearn.linear_model import SGDRegressor\n",
    "from sklearn.linear_model import HuberRegressor, LinearRegression\n",
    "from sklearn.metrics import mean_absolute_error\n",
    "from sklearn import datasets, linear_model\n",
    "from sklearn.model_selection import train_test_split\n",
    "from sklearn.metrics import mean_squared_error\n",
    "from scipy import stats\n"
   ]
  },
  {
   "cell_type": "code",
   "execution_count": 2,
   "metadata": {},
   "outputs": [],
   "source": [
    "data = pd.read_csv(\"task-2.csv\" , sep='\\t')"
   ]
  },
  {
   "cell_type": "markdown",
   "metadata": {},
   "source": [
    "# The second task consists of fitting a model to a set of data points that contains outliers. \n",
    "- Train / test * 3\n",
    "- MAE score : Fit a linear regression with the outliers\n",
    "- MAE score : Fit a huber regression with the outliers\n",
    "- MAE score : Fit a linear regression without the outliers"
   ]
  },
  {
   "cell_type": "markdown",
   "metadata": {},
   "source": [
    "### Fit a linear regression with the outliers"
   ]
  },
  {
   "cell_type": "markdown",
   "metadata": {},
   "source": [
    "#### Here I am cleaning the data"
   ]
  },
  {
   "cell_type": "code",
   "execution_count": 3,
   "metadata": {},
   "outputs": [
    {
     "data": {
      "text/html": [
       "<div>\n",
       "<style scoped>\n",
       "    .dataframe tbody tr th:only-of-type {\n",
       "        vertical-align: middle;\n",
       "    }\n",
       "\n",
       "    .dataframe tbody tr th {\n",
       "        vertical-align: top;\n",
       "    }\n",
       "\n",
       "    .dataframe thead th {\n",
       "        text-align: right;\n",
       "    }\n",
       "</style>\n",
       "<table border=\"1\" class=\"dataframe\">\n",
       "  <thead>\n",
       "    <tr style=\"text-align: right;\">\n",
       "      <th></th>\n",
       "      <th>x1</th>\n",
       "      <th>x2</th>\n",
       "      <th>x3</th>\n",
       "      <th>y</th>\n",
       "    </tr>\n",
       "  </thead>\n",
       "  <tbody>\n",
       "    <tr>\n",
       "      <th>0</th>\n",
       "      <td>7.892</td>\n",
       "      <td>318.818</td>\n",
       "      <td>162.970</td>\n",
       "      <td>2112.420</td>\n",
       "    </tr>\n",
       "    <tr>\n",
       "      <th>1</th>\n",
       "      <td>8.830</td>\n",
       "      <td>303.180</td>\n",
       "      <td>181.399</td>\n",
       "      <td>2096.231</td>\n",
       "    </tr>\n",
       "    <tr>\n",
       "      <th>2</th>\n",
       "      <td>13.811</td>\n",
       "      <td>296.231</td>\n",
       "      <td>145.849</td>\n",
       "      <td>2067.045</td>\n",
       "    </tr>\n",
       "    <tr>\n",
       "      <th>3</th>\n",
       "      <td>12.863</td>\n",
       "      <td>325.830</td>\n",
       "      <td>167.996</td>\n",
       "      <td>2269.262</td>\n",
       "    </tr>\n",
       "    <tr>\n",
       "      <th>4</th>\n",
       "      <td>13.698</td>\n",
       "      <td>254.035</td>\n",
       "      <td>171.892</td>\n",
       "      <td>1966.604</td>\n",
       "    </tr>\n",
       "    <tr>\n",
       "      <th>...</th>\n",
       "      <td>...</td>\n",
       "      <td>...</td>\n",
       "      <td>...</td>\n",
       "      <td>...</td>\n",
       "    </tr>\n",
       "    <tr>\n",
       "      <th>995</th>\n",
       "      <td>7.573</td>\n",
       "      <td>305.690</td>\n",
       "      <td>150.542</td>\n",
       "      <td>2033.060</td>\n",
       "    </tr>\n",
       "    <tr>\n",
       "      <th>996</th>\n",
       "      <td>5.948</td>\n",
       "      <td>331.843</td>\n",
       "      <td>182.158</td>\n",
       "      <td>2101.776</td>\n",
       "    </tr>\n",
       "    <tr>\n",
       "      <th>997</th>\n",
       "      <td>7.568</td>\n",
       "      <td>385.722</td>\n",
       "      <td>159.005</td>\n",
       "      <td>2429.810</td>\n",
       "    </tr>\n",
       "    <tr>\n",
       "      <th>998</th>\n",
       "      <td>15.332</td>\n",
       "      <td>335.927</td>\n",
       "      <td>166.665</td>\n",
       "      <td>2431.463</td>\n",
       "    </tr>\n",
       "    <tr>\n",
       "      <th>999</th>\n",
       "      <td>13.555</td>\n",
       "      <td>321.416</td>\n",
       "      <td>180.862</td>\n",
       "      <td>2340.283</td>\n",
       "    </tr>\n",
       "  </tbody>\n",
       "</table>\n",
       "<p>1000 rows × 4 columns</p>\n",
       "</div>"
      ],
      "text/plain": [
       "         x1       x2       x3         y\n",
       "0     7.892  318.818  162.970  2112.420\n",
       "1     8.830  303.180  181.399  2096.231\n",
       "2    13.811  296.231  145.849  2067.045\n",
       "3    12.863  325.830  167.996  2269.262\n",
       "4    13.698  254.035  171.892  1966.604\n",
       "..      ...      ...      ...       ...\n",
       "995   7.573  305.690  150.542  2033.060\n",
       "996   5.948  331.843  182.158  2101.776\n",
       "997   7.568  385.722  159.005  2429.810\n",
       "998  15.332  335.927  166.665  2431.463\n",
       "999  13.555  321.416  180.862  2340.283\n",
       "\n",
       "[1000 rows x 4 columns]"
      ]
     },
     "metadata": {},
     "output_type": "display_data"
    }
   ],
   "source": [
    "data_2 = data['x1,x2,x3,y'].str.split(\",\", expand = True).add_prefix('col_')\n",
    "data_2  = data_2.rename(columns = {'col_3': 'y'}, inplace = False)\n",
    "data_2[\"col_0\"] = pd.to_numeric(data_2[\"col_0\"])\n",
    "data_2[\"col_1\"] = pd.to_numeric(data_2[\"col_1\"])\n",
    "data_2[\"col_2\"] = pd.to_numeric(data_2[\"col_2\"])\n",
    "data_2  = data_2.rename(columns = {'col_0': 'x1'}, inplace = False)\n",
    "data_2  = data_2.rename(columns = {'col_1': 'x2'}, inplace = False)\n",
    "data_2  = data_2.rename(columns = {'col_2': 'x3'}, inplace = False)\n",
    "data_2[\"y\"] = pd.to_numeric(data_2[\"y\"])\n",
    "display(data_2)"
   ]
  },
  {
   "cell_type": "markdown",
   "metadata": {},
   "source": [
    "#### Data Randomization"
   ]
  },
  {
   "cell_type": "code",
   "execution_count": 4,
   "metadata": {},
   "outputs": [],
   "source": [
    "data_3 = data_2.sample(frac=1)"
   ]
  },
  {
   "cell_type": "markdown",
   "metadata": {},
   "source": [
    "#### Splitting the data"
   ]
  },
  {
   "cell_type": "code",
   "execution_count": 5,
   "metadata": {},
   "outputs": [],
   "source": [
    "from sklearn.model_selection import train_test_split\n",
    "X = data_3.drop('y', axis = 1).values\n",
    "y = data_3.y.values                                \n",
    "                                       \n",
    "X_train, X_validation, y_train, y_validation = train_test_split(X, y, test_size=0.20, random_state=42)"
   ]
  },
  {
   "cell_type": "markdown",
   "metadata": {},
   "source": [
    "#### Fitting the model"
   ]
  },
  {
   "cell_type": "code",
   "execution_count": 6,
   "metadata": {},
   "outputs": [],
   "source": [
    "reg = linear_model.LinearRegression()"
   ]
  },
  {
   "cell_type": "code",
   "execution_count": 7,
   "metadata": {},
   "outputs": [
    {
     "data": {
      "text/plain": [
       "LinearRegression()"
      ]
     },
     "execution_count": 7,
     "metadata": {},
     "output_type": "execute_result"
    }
   ],
   "source": [
    "reg.fit(X_train, y_train)"
   ]
  },
  {
   "cell_type": "markdown",
   "metadata": {},
   "source": [
    "#### Train the model"
   ]
  },
  {
   "cell_type": "code",
   "execution_count": 8,
   "metadata": {},
   "outputs": [],
   "source": [
    "train_reg = reg.predict(X_train)\n",
    "test_reg = reg.predict(X_validation)\n",
    "X_reg = reg.predict(X)"
   ]
  },
  {
   "cell_type": "code",
   "execution_count": 9,
   "metadata": {},
   "outputs": [
    {
     "name": "stdout",
     "output_type": "stream",
     "text": [
      "Train RMSE\n",
      "145.58865327332748\n",
      "Test RMSE\n",
      "157.84891613823933\n",
      "Test RMSE\n",
      "148.12191206825653\n"
     ]
    }
   ],
   "source": [
    "train_rmse_2 = np.sqrt(mean_squared_error(train_reg, y_train))\n",
    "test_rmse_2 = np.sqrt(mean_squared_error(test_reg, y_validation))\n",
    "test_rmse_test = np.sqrt(mean_squared_error(X_reg, y))\n",
    "print('Train RMSE')\n",
    "print(train_rmse_2)\n",
    "print('Test RMSE')\n",
    "print(test_rmse_2)\n",
    "print('Test RMSE')\n",
    "print(test_rmse_test)"
   ]
  },
  {
   "cell_type": "markdown",
   "metadata": {},
   "source": [
    "#### Showing the results"
   ]
  },
  {
   "cell_type": "code",
   "execution_count": 10,
   "metadata": {},
   "outputs": [
    {
     "data": {
      "text/plain": [
       "114.20970663293755"
      ]
     },
     "metadata": {},
     "output_type": "display_data"
    }
   ],
   "source": [
    "result_linear_outliers = mean_absolute_error(X_reg, y)\n",
    "display(result_linear_outliers)"
   ]
  },
  {
   "cell_type": "markdown",
   "metadata": {},
   "source": [
    "### Fit a huber regression with the outliers"
   ]
  },
  {
   "cell_type": "code",
   "execution_count": 11,
   "metadata": {},
   "outputs": [],
   "source": [
    "from sklearn.model_selection import train_test_split\n",
    "X = data_3.drop('y', axis = 1).values\n",
    "y = data_3.y.values                                \n",
    "                                       \n",
    "X_train, X_validation, y_train, y_validation = train_test_split(X, y, test_size=0.20, random_state=42)"
   ]
  },
  {
   "cell_type": "markdown",
   "metadata": {},
   "source": [
    "#### Fitting the model HuberRegressor"
   ]
  },
  {
   "cell_type": "code",
   "execution_count": 12,
   "metadata": {},
   "outputs": [],
   "source": [
    "reg = linear_model.HuberRegressor()"
   ]
  },
  {
   "cell_type": "code",
   "execution_count": 13,
   "metadata": {},
   "outputs": [
    {
     "data": {
      "text/plain": [
       "HuberRegressor()"
      ]
     },
     "execution_count": 13,
     "metadata": {},
     "output_type": "execute_result"
    }
   ],
   "source": [
    "reg.fit(X_train, y_train)"
   ]
  },
  {
   "cell_type": "markdown",
   "metadata": {},
   "source": [
    "#### Train the model"
   ]
  },
  {
   "cell_type": "code",
   "execution_count": 14,
   "metadata": {},
   "outputs": [],
   "source": [
    "train_reg = reg.predict(X_train)\n",
    "test_reg = reg.predict(X_validation)\n",
    "X_reg = reg.predict(X)"
   ]
  },
  {
   "cell_type": "code",
   "execution_count": 15,
   "metadata": {},
   "outputs": [
    {
     "name": "stdout",
     "output_type": "stream",
     "text": [
      "Train RMSE\n",
      "210.82007222016253\n",
      "Test RMSE\n",
      "334.317718784374\n",
      "Test RMSE\n",
      "240.64444664144898\n"
     ]
    }
   ],
   "source": [
    "train_rmse_2 = np.sqrt(mean_squared_error(train_reg, y_train))\n",
    "test_rmse_2 = np.sqrt(mean_squared_error(test_reg, y_validation))\n",
    "test_rmse_test = np.sqrt(mean_squared_error(X_reg, y))\n",
    "print('Train RMSE')\n",
    "print(train_rmse_2)\n",
    "print('Test RMSE')\n",
    "print(test_rmse_2)\n",
    "print('Test RMSE')\n",
    "print(test_rmse_test)"
   ]
  },
  {
   "cell_type": "markdown",
   "metadata": {},
   "source": [
    "#### Get the results"
   ]
  },
  {
   "cell_type": "code",
   "execution_count": 16,
   "metadata": {},
   "outputs": [],
   "source": [
    "result_huber_outliers = mean_absolute_error(X_reg, y)"
   ]
  },
  {
   "cell_type": "markdown",
   "metadata": {},
   "source": [
    "### Fitting the linear regression without the outlier"
   ]
  },
  {
   "cell_type": "markdown",
   "metadata": {},
   "source": [
    "#### Filtering outliers"
   ]
  },
  {
   "cell_type": "code",
   "execution_count": 17,
   "metadata": {},
   "outputs": [
    {
     "data": {
      "text/html": [
       "<div>\n",
       "<style scoped>\n",
       "    .dataframe tbody tr th:only-of-type {\n",
       "        vertical-align: middle;\n",
       "    }\n",
       "\n",
       "    .dataframe tbody tr th {\n",
       "        vertical-align: top;\n",
       "    }\n",
       "\n",
       "    .dataframe thead th {\n",
       "        text-align: right;\n",
       "    }\n",
       "</style>\n",
       "<table border=\"1\" class=\"dataframe\">\n",
       "  <thead>\n",
       "    <tr style=\"text-align: right;\">\n",
       "      <th></th>\n",
       "      <th>x1</th>\n",
       "      <th>x2</th>\n",
       "      <th>x3</th>\n",
       "      <th>y</th>\n",
       "    </tr>\n",
       "  </thead>\n",
       "  <tbody>\n",
       "    <tr>\n",
       "      <th>418</th>\n",
       "      <td>10.078</td>\n",
       "      <td>291.242</td>\n",
       "      <td>166.263</td>\n",
       "      <td>2021.911</td>\n",
       "    </tr>\n",
       "    <tr>\n",
       "      <th>329</th>\n",
       "      <td>14.764</td>\n",
       "      <td>296.431</td>\n",
       "      <td>164.224</td>\n",
       "      <td>2159.377</td>\n",
       "    </tr>\n",
       "    <tr>\n",
       "      <th>278</th>\n",
       "      <td>12.236</td>\n",
       "      <td>296.181</td>\n",
       "      <td>169.016</td>\n",
       "      <td>2095.413</td>\n",
       "    </tr>\n",
       "    <tr>\n",
       "      <th>705</th>\n",
       "      <td>15.372</td>\n",
       "      <td>276.343</td>\n",
       "      <td>165.649</td>\n",
       "      <td>2065.954</td>\n",
       "    </tr>\n",
       "    <tr>\n",
       "      <th>114</th>\n",
       "      <td>12.544</td>\n",
       "      <td>267.038</td>\n",
       "      <td>166.504</td>\n",
       "      <td>2067.543</td>\n",
       "    </tr>\n",
       "    <tr>\n",
       "      <th>...</th>\n",
       "      <td>...</td>\n",
       "      <td>...</td>\n",
       "      <td>...</td>\n",
       "      <td>...</td>\n",
       "    </tr>\n",
       "    <tr>\n",
       "      <th>349</th>\n",
       "      <td>13.564</td>\n",
       "      <td>315.191</td>\n",
       "      <td>168.595</td>\n",
       "      <td>2289.325</td>\n",
       "    </tr>\n",
       "    <tr>\n",
       "      <th>58</th>\n",
       "      <td>11.177</td>\n",
       "      <td>336.730</td>\n",
       "      <td>158.043</td>\n",
       "      <td>2303.636</td>\n",
       "    </tr>\n",
       "    <tr>\n",
       "      <th>355</th>\n",
       "      <td>10.637</td>\n",
       "      <td>359.531</td>\n",
       "      <td>175.415</td>\n",
       "      <td>2467.904</td>\n",
       "    </tr>\n",
       "    <tr>\n",
       "      <th>93</th>\n",
       "      <td>13.062</td>\n",
       "      <td>333.718</td>\n",
       "      <td>170.173</td>\n",
       "      <td>2252.324</td>\n",
       "    </tr>\n",
       "    <tr>\n",
       "      <th>890</th>\n",
       "      <td>15.962</td>\n",
       "      <td>281.714</td>\n",
       "      <td>156.751</td>\n",
       "      <td>2174.399</td>\n",
       "    </tr>\n",
       "  </tbody>\n",
       "</table>\n",
       "<p>1000 rows × 4 columns</p>\n",
       "</div>"
      ],
      "text/plain": [
       "         x1       x2       x3         y\n",
       "418  10.078  291.242  166.263  2021.911\n",
       "329  14.764  296.431  164.224  2159.377\n",
       "278  12.236  296.181  169.016  2095.413\n",
       "705  15.372  276.343  165.649  2065.954\n",
       "114  12.544  267.038  166.504  2067.543\n",
       "..      ...      ...      ...       ...\n",
       "349  13.564  315.191  168.595  2289.325\n",
       "58   11.177  336.730  158.043  2303.636\n",
       "355  10.637  359.531  175.415  2467.904\n",
       "93   13.062  333.718  170.173  2252.324\n",
       "890  15.962  281.714  156.751  2174.399\n",
       "\n",
       "[1000 rows x 4 columns]"
      ]
     },
     "metadata": {},
     "output_type": "display_data"
    }
   ],
   "source": [
    "data_3 = data_2.sample(frac=1)\n",
    "display(data_3)"
   ]
  },
  {
   "cell_type": "code",
   "execution_count": 18,
   "metadata": {},
   "outputs": [
    {
     "data": {
      "text/html": [
       "<div>\n",
       "<style scoped>\n",
       "    .dataframe tbody tr th:only-of-type {\n",
       "        vertical-align: middle;\n",
       "    }\n",
       "\n",
       "    .dataframe tbody tr th {\n",
       "        vertical-align: top;\n",
       "    }\n",
       "\n",
       "    .dataframe thead th {\n",
       "        text-align: right;\n",
       "    }\n",
       "</style>\n",
       "<table border=\"1\" class=\"dataframe\">\n",
       "  <thead>\n",
       "    <tr style=\"text-align: right;\">\n",
       "      <th></th>\n",
       "      <th>count</th>\n",
       "      <th>mean</th>\n",
       "      <th>std</th>\n",
       "      <th>min</th>\n",
       "      <th>25%</th>\n",
       "      <th>50%</th>\n",
       "      <th>75%</th>\n",
       "      <th>max</th>\n",
       "    </tr>\n",
       "  </thead>\n",
       "  <tbody>\n",
       "    <tr>\n",
       "      <th>x1</th>\n",
       "      <td>1000.0</td>\n",
       "      <td>12.322190</td>\n",
       "      <td>8.455445</td>\n",
       "      <td>-49.652</td>\n",
       "      <td>9.73150</td>\n",
       "      <td>12.1565</td>\n",
       "      <td>14.18925</td>\n",
       "      <td>100.692</td>\n",
       "    </tr>\n",
       "    <tr>\n",
       "      <th>x2</th>\n",
       "      <td>1000.0</td>\n",
       "      <td>319.329936</td>\n",
       "      <td>68.823726</td>\n",
       "      <td>-375.335</td>\n",
       "      <td>296.80425</td>\n",
       "      <td>320.8575</td>\n",
       "      <td>341.74925</td>\n",
       "      <td>899.041</td>\n",
       "    </tr>\n",
       "    <tr>\n",
       "      <th>x3</th>\n",
       "      <td>1000.0</td>\n",
       "      <td>158.595832</td>\n",
       "      <td>25.032233</td>\n",
       "      <td>-146.921</td>\n",
       "      <td>152.21550</td>\n",
       "      <td>159.4570</td>\n",
       "      <td>166.35650</td>\n",
       "      <td>344.797</td>\n",
       "    </tr>\n",
       "    <tr>\n",
       "      <th>y</th>\n",
       "      <td>1000.0</td>\n",
       "      <td>2204.251068</td>\n",
       "      <td>158.109451</td>\n",
       "      <td>1733.474</td>\n",
       "      <td>2090.98100</td>\n",
       "      <td>2204.5110</td>\n",
       "      <td>2312.26600</td>\n",
       "      <td>2713.866</td>\n",
       "    </tr>\n",
       "  </tbody>\n",
       "</table>\n",
       "</div>"
      ],
      "text/plain": [
       "     count         mean         std       min         25%        50%  \\\n",
       "x1  1000.0    12.322190    8.455445   -49.652     9.73150    12.1565   \n",
       "x2  1000.0   319.329936   68.823726  -375.335   296.80425   320.8575   \n",
       "x3  1000.0   158.595832   25.032233  -146.921   152.21550   159.4570   \n",
       "y   1000.0  2204.251068  158.109451  1733.474  2090.98100  2204.5110   \n",
       "\n",
       "           75%       max  \n",
       "x1    14.18925   100.692  \n",
       "x2   341.74925   899.041  \n",
       "x3   166.35650   344.797  \n",
       "y   2312.26600  2713.866  "
      ]
     },
     "execution_count": 18,
     "metadata": {},
     "output_type": "execute_result"
    }
   ],
   "source": [
    "data_3.describe().T"
   ]
  },
  {
   "cell_type": "code",
   "execution_count": 19,
   "metadata": {},
   "outputs": [],
   "source": [
    "for i in data_3:\n",
    "    data_3 = data_3.loc[(data_3[i] > data_3[i].quantile(0.2) - (1.5*(data_3[i].quantile(0.8)-data_3[i].quantile(0.2)))) & (data_3[i] < data_3[i].quantile(0.8) + (1.5*(data_3[i].quantile(0.8)-data_3[i].quantile(0.2))))]\n",
    "data_4 = data_3"
   ]
  },
  {
   "cell_type": "markdown",
   "metadata": {},
   "source": [
    "#### Checking changes"
   ]
  },
  {
   "cell_type": "code",
   "execution_count": 20,
   "metadata": {},
   "outputs": [
    {
     "data": {
      "text/html": [
       "<div>\n",
       "<style scoped>\n",
       "    .dataframe tbody tr th:only-of-type {\n",
       "        vertical-align: middle;\n",
       "    }\n",
       "\n",
       "    .dataframe tbody tr th {\n",
       "        vertical-align: top;\n",
       "    }\n",
       "\n",
       "    .dataframe thead th {\n",
       "        text-align: right;\n",
       "    }\n",
       "</style>\n",
       "<table border=\"1\" class=\"dataframe\">\n",
       "  <thead>\n",
       "    <tr style=\"text-align: right;\">\n",
       "      <th></th>\n",
       "      <th>count</th>\n",
       "      <th>mean</th>\n",
       "      <th>std</th>\n",
       "      <th>min</th>\n",
       "      <th>25%</th>\n",
       "      <th>50%</th>\n",
       "      <th>75%</th>\n",
       "      <th>max</th>\n",
       "    </tr>\n",
       "  </thead>\n",
       "  <tbody>\n",
       "    <tr>\n",
       "      <th>x1</th>\n",
       "      <td>950.0</td>\n",
       "      <td>11.989403</td>\n",
       "      <td>3.046165</td>\n",
       "      <td>3.889</td>\n",
       "      <td>9.78425</td>\n",
       "      <td>12.0645</td>\n",
       "      <td>14.04900</td>\n",
       "      <td>21.807</td>\n",
       "    </tr>\n",
       "    <tr>\n",
       "      <th>x2</th>\n",
       "      <td>950.0</td>\n",
       "      <td>319.442454</td>\n",
       "      <td>30.930711</td>\n",
       "      <td>222.001</td>\n",
       "      <td>297.70850</td>\n",
       "      <td>320.9985</td>\n",
       "      <td>340.42700</td>\n",
       "      <td>414.861</td>\n",
       "    </tr>\n",
       "    <tr>\n",
       "      <th>x3</th>\n",
       "      <td>950.0</td>\n",
       "      <td>159.524124</td>\n",
       "      <td>10.061288</td>\n",
       "      <td>127.701</td>\n",
       "      <td>152.65600</td>\n",
       "      <td>159.5815</td>\n",
       "      <td>166.20700</td>\n",
       "      <td>191.869</td>\n",
       "    </tr>\n",
       "    <tr>\n",
       "      <th>y</th>\n",
       "      <td>950.0</td>\n",
       "      <td>2202.843472</td>\n",
       "      <td>159.076232</td>\n",
       "      <td>1733.474</td>\n",
       "      <td>2090.04275</td>\n",
       "      <td>2202.6350</td>\n",
       "      <td>2312.21375</td>\n",
       "      <td>2713.866</td>\n",
       "    </tr>\n",
       "  </tbody>\n",
       "</table>\n",
       "</div>"
      ],
      "text/plain": [
       "    count         mean         std       min         25%        50%  \\\n",
       "x1  950.0    11.989403    3.046165     3.889     9.78425    12.0645   \n",
       "x2  950.0   319.442454   30.930711   222.001   297.70850   320.9985   \n",
       "x3  950.0   159.524124   10.061288   127.701   152.65600   159.5815   \n",
       "y   950.0  2202.843472  159.076232  1733.474  2090.04275  2202.6350   \n",
       "\n",
       "           75%       max  \n",
       "x1    14.04900    21.807  \n",
       "x2   340.42700   414.861  \n",
       "x3   166.20700   191.869  \n",
       "y   2312.21375  2713.866  "
      ]
     },
     "execution_count": 20,
     "metadata": {},
     "output_type": "execute_result"
    }
   ],
   "source": [
    "data_4.describe().T"
   ]
  },
  {
   "cell_type": "markdown",
   "metadata": {},
   "source": [
    "#### 50 lines have been deleted, fitting now the model"
   ]
  },
  {
   "cell_type": "code",
   "execution_count": 21,
   "metadata": {},
   "outputs": [],
   "source": [
    "from sklearn.model_selection import train_test_split\n",
    "X = data_4.drop('y', axis = 1).values\n",
    "y = data_4.y.values                                \n",
    "                                       \n",
    "X_train, X_validation, y_train, y_validation = train_test_split(X, y, test_size=0.20, random_state=42)"
   ]
  },
  {
   "cell_type": "code",
   "execution_count": 22,
   "metadata": {},
   "outputs": [],
   "source": [
    "reg = linear_model.LinearRegression()\n"
   ]
  },
  {
   "cell_type": "code",
   "execution_count": 23,
   "metadata": {
    "scrolled": true
   },
   "outputs": [
    {
     "data": {
      "text/plain": [
       "LinearRegression()"
      ]
     },
     "execution_count": 23,
     "metadata": {},
     "output_type": "execute_result"
    }
   ],
   "source": [
    "reg.fit(X_train, y_train)"
   ]
  },
  {
   "cell_type": "markdown",
   "metadata": {},
   "source": [
    "#### Fitting the model"
   ]
  },
  {
   "cell_type": "code",
   "execution_count": 24,
   "metadata": {},
   "outputs": [],
   "source": [
    "train_reg = reg.predict(X_train)\n",
    "test_reg = reg.predict(X_validation)\n",
    "X_reg = reg.predict(X)"
   ]
  },
  {
   "cell_type": "code",
   "execution_count": 25,
   "metadata": {},
   "outputs": [
    {
     "name": "stdout",
     "output_type": "stream",
     "text": [
      "Train RMSE\n",
      "70.55644064486113\n",
      "Test RMSE\n",
      "65.96073856196345\n",
      "Test RMSE\n",
      "69.66155941051986\n"
     ]
    }
   ],
   "source": [
    "train_rmse_2 = np.sqrt(mean_squared_error(train_reg, y_train))\n",
    "test_rmse_2 = np.sqrt(mean_squared_error(test_reg, y_validation))\n",
    "test_rmse_test = np.sqrt(mean_squared_error(X_reg, y))\n",
    "print('Train RMSE')\n",
    "print(train_rmse_2)\n",
    "print('Test RMSE')\n",
    "print(test_rmse_2)\n",
    "print('Test RMSE')\n",
    "print(test_rmse_test)"
   ]
  },
  {
   "cell_type": "markdown",
   "metadata": {},
   "source": [
    "#### result of the model"
   ]
  },
  {
   "cell_type": "code",
   "execution_count": 26,
   "metadata": {},
   "outputs": [
    {
     "data": {
      "text/plain": [
       "53.19716216081502"
      ]
     },
     "metadata": {},
     "output_type": "display_data"
    }
   ],
   "source": [
    "result_linear_whithout_outliers = mean_absolute_error(X_reg, y)\n",
    "display(result_linear_whithout_outliers)"
   ]
  },
  {
   "cell_type": "code",
   "execution_count": 27,
   "metadata": {},
   "outputs": [
    {
     "data": {
      "text/plain": [
       "114.20970663293755"
      ]
     },
     "execution_count": 27,
     "metadata": {},
     "output_type": "execute_result"
    }
   ],
   "source": [
    "result_linear_outliers"
   ]
  },
  {
   "cell_type": "code",
   "execution_count": 28,
   "metadata": {},
   "outputs": [
    {
     "data": {
      "text/plain": [
       "103.90240105791605"
      ]
     },
     "execution_count": 28,
     "metadata": {},
     "output_type": "execute_result"
    }
   ],
   "source": [
    "result_huber_outliers"
   ]
  },
  {
   "cell_type": "code",
   "execution_count": 29,
   "metadata": {},
   "outputs": [
    {
     "data": {
      "text/plain": [
       "53.19716216081502"
      ]
     },
     "execution_count": 29,
     "metadata": {},
     "output_type": "execute_result"
    }
   ],
   "source": [
    "result_linear_whithout_outliers"
   ]
  },
  {
   "cell_type": "code",
   "execution_count": 30,
   "metadata": {},
   "outputs": [
    {
     "ename": "SyntaxError",
     "evalue": "invalid syntax (<ipython-input-30-bf603e1097f7>, line 1)",
     "output_type": "error",
     "traceback": [
      "\u001b[1;36m  File \u001b[1;32m\"<ipython-input-30-bf603e1097f7>\"\u001b[1;36m, line \u001b[1;32m1\u001b[0m\n\u001b[1;33m    Outliers have a heavy impact on the results. It is more important to filter well outliers rather than choosing the right regression model\u001b[0m\n\u001b[1;37m             ^\u001b[0m\n\u001b[1;31mSyntaxError\u001b[0m\u001b[1;31m:\u001b[0m invalid syntax\n"
     ]
    }
   ],
   "source": [
    "Outliers have a heavy impact on the results. It is more important to filter well outliers rather than choosing the right regression model"
   ]
  }
 ],
 "metadata": {
  "kernelspec": {
   "display_name": "Python 3",
   "language": "python",
   "name": "python3"
  },
  "language_info": {
   "codemirror_mode": {
    "name": "ipython",
    "version": 3
   },
   "file_extension": ".py",
   "mimetype": "text/x-python",
   "name": "python",
   "nbconvert_exporter": "python",
   "pygments_lexer": "ipython3",
   "version": "3.8.5"
  }
 },
 "nbformat": 4,
 "nbformat_minor": 4
}
